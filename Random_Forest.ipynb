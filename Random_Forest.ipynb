{
 "cells": [
  {
   "cell_type": "markdown",
   "id": "75ea6d90-5da3-4304-8aa9-b1fbe40b4832",
   "metadata": {},
   "source": [
    "Random Forest "
   ]
  },
  {
   "cell_type": "code",
   "execution_count": 54,
   "id": "2f9504ad",
   "metadata": {},
   "outputs": [],
   "source": [
    "import numpy as np\n",
    "import pandas as pd\n",
    "from sklearn.datasets import load_boston\n",
    "from sklearn.metrics import mean_squared_error\n",
    "import matplotlib.pyplot as plt\n",
    "from sklearn.model_selection import train_test_split\n",
    "import random\n",
    "import math\n",
    "boston = load_boston()"
   ]
  },
  {
   "cell_type": "code",
   "execution_count": 153,
   "id": "5847f651",
   "metadata": {},
   "outputs": [],
   "source": [
    "X=pd.DataFrame(boston.data)\n",
    "y=pd.DataFrame(boston.target)"
   ]
  },
  {
   "cell_type": "code",
   "execution_count": 154,
   "id": "fcb28150",
   "metadata": {},
   "outputs": [],
   "source": [
    "X_train, X_test, y_train, y_test = train_test_split(X,y,random_state=616)"
   ]
  },
  {
   "cell_type": "code",
   "execution_count": 200,
   "id": "2b464973",
   "metadata": {},
   "outputs": [],
   "source": [
    "class Node():\n",
    "    def __init__(self, feature_index=None, cutoff=None, left=None, right=None, variance=None, value=None):        \n",
    "        \n",
    "        self.feature_index = feature_index\n",
    "        self.cutoff = cutoff\n",
    "        self.left = left\n",
    "        self.right = right\n",
    "        self.variance = variance\n",
    "        self.value = value"
   ]
  },
  {
   "cell_type": "code",
   "execution_count": 201,
   "id": "8684a8cf",
   "metadata": {},
   "outputs": [],
   "source": [
    "class Random_Forest():\n",
    "    def __init__(self, min_samples_split=2, height=2):\n",
    "        self.root = None\n",
    "        \n",
    "        self.min_samples_split = min_samples_split\n",
    "        self.height = height\n",
    "        \n",
    "    def build_tree(self, dataset, curr_depth=0):        #this is a recursive function to build the tree\n",
    "        \n",
    "        X, Y = dataset[:,:-1], dataset[:,-1]  \n",
    "        num_samples, num_features = np.shape(X)\n",
    "        best_split = {}\n",
    "        # spiltting\n",
    "        if num_samples>=self.min_samples_split and curr_depth<=self.height:\n",
    "            #  best split\n",
    "            best_split = self.get_best_split(dataset, num_samples,num_features)\n",
    "            # check if information gain is positive\n",
    "            if best_split[\"variance\"]>0:\n",
    "                # recur left\n",
    "                left_subtree = self.build_tree(best_split[\"dataset_left\"], curr_depth+1)\n",
    "                # recur right\n",
    "                right_subtree = self.build_tree(best_split[\"dataset_right\"], curr_depth+1)\n",
    "                # return decision node\n",
    "                return Node(best_split[\"feature_index\"], best_split[\"cutoff\"], \n",
    "                            left_subtree, right_subtree, best_split[\"variance\"])\n",
    "        \n",
    "        leaf_value = np.mean(Y)\n",
    "        # returning leaf node\n",
    "        return Node(value=leaf_value)\n",
    "    \n",
    "    def get_best_split(self, dataset, num_samples,num_features):\n",
    "        \n",
    "        best_split = {}\n",
    "        max_variance = -float(\"inf\")\n",
    "        #sampling p/3 attributes\n",
    "        n_rows,n_cols = dataset.shape \n",
    "        column = list(range(n_cols-1))\n",
    "        num_features1 = random.sample(population=column,k=math.ceil(dataset.shape[1]/3))\n",
    "    \n",
    "        #looping over the features\n",
    "        for feature_index in num_features1:\n",
    "            ft_vals = dataset[:, feature_index]\n",
    "            possible_cutoffs = np.unique(ft_vals)\n",
    "            \n",
    "            for cutoff in possible_cutoffs:\n",
    "                # current split\n",
    "                dataset_left, dataset_right = self.split(dataset, feature_index, cutoff)\n",
    "                \n",
    "                if len(dataset_left)>0 and len(dataset_right)>0:\n",
    "                    y, left_y, right_y = dataset[:, -1], dataset_left[:, -1], dataset_right[:, -1]\n",
    "                    \n",
    "                    curr_variance = self.variance_reduction(y, left_y, right_y)\n",
    "                    # update the best split if needed\n",
    "                    if curr_variance>max_variance:\n",
    "                        best_split[\"feature_index\"] = feature_index\n",
    "                        best_split[\"cutoff\"] = cutoff\n",
    "                        best_split[\"dataset_left\"] = dataset_left\n",
    "                        best_split[\"dataset_right\"] = dataset_right\n",
    "                        best_split[\"variance\"] = curr_variance\n",
    "                        max_variance = curr_variance\n",
    "                        \n",
    "        # return best split\n",
    "        return best_split\n",
    "    \n",
    "    def split(self, dataset, feature_index, cutoff):\n",
    "        ''' function to split the data '''\n",
    "\n",
    "        dataset_left = np.array([row for row in dataset if row[feature_index]<=cutoff])\n",
    "        dataset_right = np.array([row for row in dataset if row[feature_index]>cutoff])\n",
    "        return dataset_left, dataset_right\n",
    "    \n",
    "    def variance_reduction(self, parent, l_child, r_child):\n",
    "        ''' function to compute variance reduction '''\n",
    "        \n",
    "        prob_left = len(l_child) / len(parent)\n",
    "        prob_right = len(r_child) / len(parent)\n",
    "        reduction = np.var(parent) - (prob_left * np.var(l_child) + prob_right * np.var(r_child))\n",
    "        return reduction\n",
    "    \n",
    "    \n",
    "    def make_prediction(self, x, tree):\n",
    "        ''' function to predict new dataset '''\n",
    "        \n",
    "        if tree.value!=None: return tree.value\n",
    "        feature_val = x[tree.feature_index]\n",
    "        if feature_val<=tree.cutoff:\n",
    "            return self.make_prediction(x, tree.left)\n",
    "        else:\n",
    "            return self.make_prediction(x, tree.right)\n",
    "                \n",
    "    \n",
    "    def predict(self, X):\n",
    "        ''' function to predict a single data point '''\n",
    "        \n",
    "        predictions = [self.make_prediction(x, self.root) for x in X]\n",
    "        return predictions\n",
    "    \n",
    "    def fit(self, dataset):\n",
    "        ''' function to train the tree '''\n",
    "          \n",
    "        self.root = self.build_tree(dataset.values)"
   ]
  },
  {
   "cell_type": "code",
   "execution_count": 160,
   "id": "65ab5280-033d-4c38-a9b4-2466333d9d43",
   "metadata": {},
   "outputs": [],
   "source": [
    "train_MSE = np.zeros(6)\n",
    "test_MSE = np.zeros(6)"
   ]
  },
  {
   "cell_type": "code",
   "execution_count": 203,
   "id": "6a043227",
   "metadata": {},
   "outputs": [],
   "source": [
    "#bootstarpping X  \n",
    "F = Random_Forest(min_samples_split=3,height=2)\n",
    "def random_forest(X,y,n_trees,height):\n",
    "    forest = []   \n",
    "    for i in range(n_trees):\n",
    "        b_indices = np.random.randint(low=0, high=len(X), size=len(X))\n",
    "        y1=y.rename(columns={0:\"13\"})\n",
    "        Train_df = pd.concat([X,y1],axis=1)\n",
    "        BTS =  Train_df.iloc[b_indices]  \n",
    "        tree = F.fit(BTS)\n",
    "        forest.append(tree)\n",
    "    return forest"
   ]
  },
  {
   "cell_type": "code",
   "execution_count": 158,
   "id": "aa25c91f-cf61-464e-8535-b64d859cc7b1",
   "metadata": {},
   "outputs": [],
   "source": [
    "#calculating MSE using different values of B and h\n",
    "B = [10,40,20,80,100,100]\n",
    "H = [2,3,4,3,2,3]"
   ]
  },
  {
   "cell_type": "code",
   "execution_count": 165,
   "id": "eb9ee2cf",
   "metadata": {},
   "outputs": [],
   "source": [
    "random_forest(X_train,y_train,B[0],H[0])\n",
    "Y_pred00 = F.predict(X_train.values) \n",
    "train_MSE[0] = np.sqrt(mean_squared_error(y_train.values, Y_pred00))\n",
    "random_forest(X_test,y_test,B[0],H[0])\n",
    "Y_pred01 = F.predict(X_test.values) \n",
    "test_MSE[0] = np.sqrt(mean_squared_error(y_test.values, Y_pred01))"
   ]
  },
  {
   "cell_type": "code",
   "execution_count": 177,
   "id": "67c5dc2d-059e-4480-8b2c-da5305ffca8d",
   "metadata": {},
   "outputs": [],
   "source": [
    "random_forest(X_train,y_train,B[1],H[1])\n",
    "Y_pred10 = F.predict(X_train.values) \n",
    "train_MSE[1] = np.sqrt(mean_squared_error(y_train.values, Y_pred10))\n",
    "random_forest(X_test,y_test,B[1],H[1])\n",
    "Y_pred11 = F.predict(X_test.values) \n",
    "test_MSE[1] = np.sqrt(mean_squared_error(y_test.values, Y_pred11))"
   ]
  },
  {
   "cell_type": "code",
   "execution_count": 171,
   "id": "f5f7ac3b-c430-4426-9786-f3d36d97923f",
   "metadata": {},
   "outputs": [],
   "source": [
    "random_forest(X_train,y_train,B[2],H[2])\n",
    "Y_pred20 = F.predict(X_train.values) \n",
    "train_MSE[2] = np.sqrt(mean_squared_error(y_train.values, Y_pred20))\n",
    "random_forest(X_test,y_test,B[2],H[2])\n",
    "Y_pred21 = F.predict(X_test.values) \n",
    "test_MSE[2] = np.sqrt(mean_squared_error(y_test.values, Y_pred21))"
   ]
  },
  {
   "cell_type": "code",
   "execution_count": 172,
   "id": "615ee20a-2248-4e24-9577-886cbfb11b02",
   "metadata": {},
   "outputs": [],
   "source": [
    "random_forest(X_train,y_train,B[3],H[3])\n",
    "Y_pred30 = F.predict(X_train.values) \n",
    "train_MSE[3] = np.sqrt(mean_squared_error(y_train.values, Y_pred30))\n",
    "random_forest(X_test,y_test,B[3],H[3])\n",
    "Y_pred31 = F.predict(X_test.values) \n",
    "test_MSE[3] = np.sqrt(mean_squared_error(y_test.values, Y_pred31))"
   ]
  },
  {
   "cell_type": "code",
   "execution_count": 206,
   "id": "3004e7e3-db29-43f2-92c8-c122b4e81228",
   "metadata": {},
   "outputs": [],
   "source": [
    "random_forest(X_train,y_train,B[4],H[4])\n",
    "Y_pred40 = F.predict(X_train.values) \n",
    "train_MSE[4] = np.sqrt(mean_squared_error(y_train.values, Y_pred40))\n",
    "random_forest(X_test,y_test,B[4],H[4])\n",
    "Y_pred41 = F.predict(X_test.values) \n",
    "test_MSE[4] = np.sqrt(mean_squared_error(y_test.values, Y_pred41))"
   ]
  },
  {
   "cell_type": "code",
   "execution_count": 179,
   "id": "700ad4f9-6df4-41cc-8552-35cf24916c20",
   "metadata": {},
   "outputs": [],
   "source": [
    "random_forest(X_train,y_train,B[5],H[5])\n",
    "Y_pred50 = F.predict(X_train.values) \n",
    "train_MSE[5] = np.sqrt(mean_squared_error(y_train.values, Y_pred50))\n",
    "random_forest(X_test,y_test,B[5],H[5])\n",
    "Y_pred51 = F.predict(X_test.values) \n",
    "test_MSE[5] = np.sqrt(mean_squared_error(y_test.values, Y_pred51))"
   ]
  },
  {
   "cell_type": "code",
   "execution_count": 207,
   "id": "1cdeb7fa-8fcf-4834-9c6e-9b8a50b0b89a",
   "metadata": {},
   "outputs": [
    {
     "name": "stdout",
     "output_type": "stream",
     "text": [
      "[4.79519807 5.39074578 5.69500904 5.88227378 6.12626889 4.76095867]\n",
      "[4.89239936 3.93745738 4.70356315 3.65945286 3.56552563 4.65799155]\n"
     ]
    }
   ],
   "source": [
    "print(train_MSE)\n",
    "print(test_MSE)"
   ]
  },
  {
   "cell_type": "code",
   "execution_count": 208,
   "id": "bacedc1c",
   "metadata": {},
   "outputs": [
    {
     "data": {
      "text/plain": [
       "Text(0, 0.5, 'MSE')"
      ]
     },
     "execution_count": 208,
     "metadata": {},
     "output_type": "execute_result"
    },
    {
     "data": {
      "image/png": "[encoded data removed]",
      "text/plain": [
       "<Figure size 432x288 with 1 Axes>"
      ]
     },
     "metadata": {
      "needs_background": "light"
     },
     "output_type": "display_data"
    }
   ],
   "source": [
    "plt.plot(B,train_MSE,'*')\n",
    "plt.plot(B,test_MSE,'x')\n",
    "plt.xlabel(\"BTS\")\n",
    "plt.ylabel(\"MSE\")"
   ]
  },
  {
   "cell_type": "code",
   "execution_count": 209,
   "id": "07972d97",
   "metadata": {},
   "outputs": [
    {
     "data": {
      "text/plain": [
       "Text(0, 0.5, 'MSE')"
      ]
     },
     "execution_count": 209,
     "metadata": {},
     "output_type": "execute_result"
    },
    {
     "data": {
      "image/png": "[encoded data removed]",
      "text/plain": [
       "<Figure size 432x288 with 1 Axes>"
      ]
     },
     "metadata": {
      "needs_background": "light"
     },
     "output_type": "display_data"
    }
   ],
   "source": [
    "plt.plot(H,train_MSE,'*')\n",
    "plt.plot(H,test_MSE,'x')\n",
    "plt.xlabel(\"Height\")\n",
    "plt.ylabel(\"MSE\")"
   ]
  },
  {
   "cell_type": "code",
   "execution_count": null,
   "id": "65c75392",
   "metadata": {},
   "outputs": [],
   "source": []
  }
 ],
 "metadata": {
  "kernelspec": {
   "display_name": "Python 3",
   "language": "python",
   "name": "python3"
  },
  "language_info": {
   "codemirror_mode": {
    "name": "ipython",
    "version": 3
   },
   "file_extension": ".py",
   "mimetype": "text/x-python",
   "name": "python",
   "nbconvert_exporter": "python",
   "pygments_lexer": "ipython3",
   "version": "3.8.8"
  }
 },
 "nbformat": 4,
 "nbformat_minor": 5
}
